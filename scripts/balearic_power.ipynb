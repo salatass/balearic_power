{
 "cells": [
  {
   "cell_type": "code",
   "execution_count": 1,
   "id": "31768a24",
   "metadata": {},
   "outputs": [],
   "source": [
    "## Create network model for the Balearic Islands"
   ]
  },
  {
   "cell_type": "code",
   "execution_count": null,
   "id": "c314ca37-59a2-4293-832c-3dafc8c33f73",
   "metadata": {},
   "outputs": [],
   "source": [
    "# 15 buses -- geolocation, v_kv\n",
    "# get grid connection -- vm_pu\n",
    "# get lines -- from_bus, to_bus, length_km, r_ohm_per_km, x_ohm_per_km, c_nf_per_km, max_i_ka\n",
    "# get loads -- geolocation, bus (nearest from geolocation), p_mw\n",
    "# get generation -- geolocation, bus (nearest from geolocation), [p_mw, vm_pu, sn_mva]"
   ]
  },
  {
   "cell_type": "code",
   "execution_count": 2,
   "id": "7f5bdd78-3e00-41bf-a515-c97b75b122b8",
   "metadata": {},
   "outputs": [],
   "source": [
    "# imports\n",
    "import pandapower as pp\n",
    "from pandapower.plotting.plotly import simple_plotly"
   ]
  },
  {
   "cell_type": "code",
   "execution_count": 3,
   "id": "37fca963-4c79-4dc3-8504-04b05dfa179e",
   "metadata": {},
   "outputs": [],
   "source": [
    "# create network\n",
    "net = pp.create_empty_network() "
   ]
  },
  {
   "cell_type": "code",
   "execution_count": null,
   "id": "186a3007-4eed-4550-a852-849150beec56",
   "metadata": {},
   "outputs": [],
   "source": [
    "# read data for buses\n",
    "\n",
    "## 15 buses -- geolocation, v_kv"
   ]
  },
  {
   "cell_type": "code",
   "execution_count": null,
   "id": "87842025-86bb-444e-8459-8bf967620728",
   "metadata": {},
   "outputs": [],
   "source": [
    "# read data for lines\n",
    "\n",
    "## get lines -- from_bus, to_bus, length_km, r_ohm_per_km, x_ohm_per_km, c_nf_per_km, max_i_ka"
   ]
  },
  {
   "cell_type": "code",
   "execution_count": null,
   "id": "2c0a25ac-0885-4894-9678-387a934216b5",
   "metadata": {},
   "outputs": [],
   "source": [
    "# read data for generation\n",
    "\n",
    "## get generation -- geolocation, bus (nearest from geolocation), [p_mw, vm_pu, sn_mva]\n",
    "\n",
    "### p_mw (float, default 0) - The active power of the generator (positive for generation!)\n",
    "\n",
    "### vm_pu (float, default 0) - The voltage set point of the generator.\n",
    "\n",
    "### sn_mva (float, None) - Nominal power of the generator"
   ]
  },
  {
   "cell_type": "code",
   "execution_count": null,
   "id": "f77216b4-8ec0-4600-a9bf-869127648285",
   "metadata": {},
   "outputs": [],
   "source": [
    "# read data for loads\n",
    "\n",
    "## get loads -- geolocation, bus (nearest from geolocation), p_mw"
   ]
  },
  {
   "cell_type": "code",
   "execution_count": null,
   "id": "f79e39be-7d7a-4a49-952a-a97112d4e06e",
   "metadata": {},
   "outputs": [],
   "source": [
    "# create 15 buses\n",
    "\n",
    "## bus_df: df or dict with geodata and v_kv for each bus\n",
    "\n",
    "buses = {}\n",
    "\n",
    "for i in range(15):\n",
    "    buses[i] = pp.create_bus(net, vn_kv = bus_df['v_kv'][i], name = f\"Bus {i}\", geodata = bus_df['geodata'][i])"
   ]
  },
  {
   "cell_type": "code",
   "execution_count": null,
   "id": "35d51146-a3bf-44e7-80bd-9adc549d28af",
   "metadata": {},
   "outputs": [],
   "source": [
    "# create one grid connection point\n",
    "connect_bus = \n",
    "vm_pu =\n",
    "\n",
    "pp.create_ext_grid(net, bus=connect_bus, vm_pu=vm_pu, name = \"Slack bus\")"
   ]
  },
  {
   "cell_type": "code",
   "execution_count": 9,
   "id": "1c667df7-017d-4335-842c-f88df0a8071d",
   "metadata": {},
   "outputs": [],
   "source": [
    "# create lines\n",
    "pp.create_line_from_parameters(net, from_bus=, to_bus=, length_km=, r_ohm_per_km=, x_ohm_per_km=, c_nf_per_km=, max_i_ka=)"
   ]
  },
  {
   "cell_type": "code",
   "execution_count": null,
   "id": "f88cb1d1-a3bd-448d-8118-ea59de3bcdce",
   "metadata": {},
   "outputs": [],
   "source": [
    "# create generators\n",
    "pandapower.create_gen(net, bus, p_mw, vm_pu=1.0, sn_mva=nan, name=None, index=None, max_q_mvar=nan, min_q_mvar=nan, min_p_mw=nan, max_p_mw=nan, min_vm_pu=nan, max_vm_pu=nan, scaling=1.0, type=None, slack=False, controllable=nan, vn_kv=nan, xdss_pu=nan, rdss_pu=nan, cos_phi=nan, in_service=True)"
   ]
  },
  {
   "cell_type": "code",
   "execution_count": null,
   "id": "ca18b0ba-901a-46e9-89bf-0d489f89f5af",
   "metadata": {},
   "outputs": [],
   "source": [
    "# create loads\n",
    "pandapower.create_load(net, bus, p_mw, q_mvar=0, const_z_percent=0, const_i_percent=0, sn_mva=nan, name=None, scaling=1.0, index=None, in_service=True, type='wye', max_p_mw=nan, min_p_mw=nan, max_q_mvar=nan, min_q_mvar=nan, controllable=nan)"
   ]
  },
  {
   "cell_type": "code",
   "execution_count": 10,
   "id": "4378578d-6676-41c3-98a1-aaa7575ed48c",
   "metadata": {},
   "outputs": [],
   "source": [
    "pp.runpp(net, algorithm='gs');"
   ]
  },
  {
   "cell_type": "code",
   "execution_count": null,
   "id": "96252a78-b6f8-46a1-b205-f6aba4e0d762",
   "metadata": {},
   "outputs": [],
   "source": []
  },
  {
   "cell_type": "code",
   "execution_count": null,
   "id": "8032a839-654b-4d67-b830-90d8d261f592",
   "metadata": {},
   "outputs": [],
   "source": []
  }
 ],
 "metadata": {
  "kernelspec": {
   "display_name": "Python 3",
   "language": "python",
   "name": "python3"
  },
  "language_info": {
   "codemirror_mode": {
    "name": "ipython",
    "version": 3
   },
   "file_extension": ".py",
   "mimetype": "text/x-python",
   "name": "python",
   "nbconvert_exporter": "python",
   "pygments_lexer": "ipython3",
   "version": "3.8.8"
  }
 },
 "nbformat": 4,
 "nbformat_minor": 5
}
