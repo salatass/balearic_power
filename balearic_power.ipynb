{
  "nbformat": 4,
  "nbformat_minor": 5,
  "metadata": {
    "kernelspec": {
      "display_name": "Python 3",
      "language": "python",
      "name": "python3"
    },
    "language_info": {
      "codemirror_mode": {
        "name": "ipython",
        "version": 3
      },
      "file_extension": ".py",
      "mimetype": "text/x-python",
      "name": "python",
      "nbconvert_exporter": "python",
      "pygments_lexer": "ipython3",
      "version": "3.8.8"
    },
    "colab": {
      "name": "balearic_power.ipynb",
      "provenance": [],
      "include_colab_link": true
    }
  },
  "cells": [
    {
      "cell_type": "markdown",
      "metadata": {
        "id": "view-in-github",
        "colab_type": "text"
      },
      "source": [
        "<a href=\"https://colab.research.google.com/github/sharonmustri/balearic_power/blob/main/balearic_power.ipynb\" target=\"_parent\"><img src=\"https://colab.research.google.com/assets/colab-badge.svg\" alt=\"Open In Colab\"/></a>"
      ]
    },
    {
      "cell_type": "code",
      "metadata": {
        "id": "31768a24"
      },
      "source": [
        "## Create network model for the Balearic Islands"
      ],
      "id": "31768a24",
      "execution_count": 1,
      "outputs": []
    },
    {
      "cell_type": "code",
      "metadata": {
        "colab": {
          "base_uri": "https://localhost:8080/"
        },
        "id": "tL_05A8YXl9n",
        "outputId": "cfeeb574-e749-4a37-b88b-7e4555e54f35"
      },
      "source": [
        "#install pandapower\n",
        "!pip install pandapower"
      ],
      "id": "tL_05A8YXl9n",
      "execution_count": 11,
      "outputs": [
        {
          "output_type": "stream",
          "name": "stdout",
          "text": [
            "Requirement already satisfied: pandapower in /usr/local/lib/python3.7/dist-packages (2.7.0)\n",
            "Requirement already satisfied: xlrd in /usr/local/lib/python3.7/dist-packages (from pandapower) (1.1.0)\n",
            "Requirement already satisfied: openpyxl in /usr/local/lib/python3.7/dist-packages (from pandapower) (2.5.9)\n",
            "Requirement already satisfied: scipy<=1.6.0 in /usr/local/lib/python3.7/dist-packages (from pandapower) (1.4.1)\n",
            "Requirement already satisfied: cryptography in /usr/local/lib/python3.7/dist-packages (from pandapower) (35.0.0)\n",
            "Requirement already satisfied: pandas>=0.17 in /usr/local/lib/python3.7/dist-packages (from pandapower) (1.1.5)\n",
            "Requirement already satisfied: networkx>=2.5 in /usr/local/lib/python3.7/dist-packages (from pandapower) (2.6.3)\n",
            "Requirement already satisfied: xlsxwriter in /usr/local/lib/python3.7/dist-packages (from pandapower) (3.0.2)\n",
            "Requirement already satisfied: numpy>=0.11 in /usr/local/lib/python3.7/dist-packages (from pandapower) (1.19.5)\n",
            "Requirement already satisfied: packaging in /usr/local/lib/python3.7/dist-packages (from pandapower) (21.0)\n",
            "Requirement already satisfied: pytz>=2017.2 in /usr/local/lib/python3.7/dist-packages (from pandas>=0.17->pandapower) (2018.9)\n",
            "Requirement already satisfied: python-dateutil>=2.7.3 in /usr/local/lib/python3.7/dist-packages (from pandas>=0.17->pandapower) (2.8.2)\n",
            "Requirement already satisfied: six>=1.5 in /usr/local/lib/python3.7/dist-packages (from python-dateutil>=2.7.3->pandas>=0.17->pandapower) (1.15.0)\n",
            "Requirement already satisfied: cffi>=1.12 in /usr/local/lib/python3.7/dist-packages (from cryptography->pandapower) (1.14.6)\n",
            "Requirement already satisfied: pycparser in /usr/local/lib/python3.7/dist-packages (from cffi>=1.12->cryptography->pandapower) (2.20)\n",
            "Requirement already satisfied: jdcal in /usr/local/lib/python3.7/dist-packages (from openpyxl->pandapower) (1.4.1)\n",
            "Requirement already satisfied: et-xmlfile in /usr/local/lib/python3.7/dist-packages (from openpyxl->pandapower) (1.1.0)\n",
            "Requirement already satisfied: pyparsing>=2.0.2 in /usr/local/lib/python3.7/dist-packages (from packaging->pandapower) (2.4.7)\n"
          ]
        }
      ]
    },
    {
      "cell_type": "code",
      "metadata": {
        "id": "c314ca37-59a2-4293-832c-3dafc8c33f73"
      },
      "source": [
        "# df for 15 buses -- geolocation, v_kv\n",
        "# get grid connection -- vm_pu\n",
        "# df for lines -- from_bus, to_bus, length_km, r_ohm_per_km, x_ohm_per_km, c_nf_per_km, max_i_ka\n",
        "# df for loads -- geolocation, bus (nearest from geolocation), p_mw\n",
        "# df for generation -- geolocation, bus (nearest from geolocation), [p_mw, vm_pu, sn_mva]\n",
        "\n",
        "### where do we put trafos???? place trafo wherever there is a change in line color / voltage"
      ],
      "id": "c314ca37-59a2-4293-832c-3dafc8c33f73",
      "execution_count": 3,
      "outputs": []
    },
    {
      "cell_type": "code",
      "metadata": {
        "id": "7f5bdd78-3e00-41bf-a515-c97b75b122b8"
      },
      "source": [
        "# imports\n",
        "import pandapower as pp\n",
        "from pandapower.plotting.plotly import simple_plotly"
      ],
      "id": "7f5bdd78-3e00-41bf-a515-c97b75b122b8",
      "execution_count": 10,
      "outputs": []
    },
    {
      "cell_type": "code",
      "metadata": {
        "id": "37fca963-4c79-4dc3-8504-04b05dfa179e"
      },
      "source": [
        "# create network\n",
        "net = pp.create_empty_network() "
      ],
      "id": "37fca963-4c79-4dc3-8504-04b05dfa179e",
      "execution_count": null,
      "outputs": []
    },
    {
      "cell_type": "code",
      "metadata": {
        "id": "186a3007-4eed-4550-a852-849150beec56"
      },
      "source": [
        "# read data for buses\n",
        "\n",
        "## 15 buses -- geolocation, v_kv"
      ],
      "id": "186a3007-4eed-4550-a852-849150beec56",
      "execution_count": null,
      "outputs": []
    },
    {
      "cell_type": "code",
      "metadata": {
        "id": "87842025-86bb-444e-8459-8bf967620728"
      },
      "source": [
        "# read data for lines\n",
        "\n",
        "## get lines -- from_bus, to_bus, length_km, r_ohm_per_km, x_ohm_per_km, c_nf_per_km, max_i_ka"
      ],
      "id": "87842025-86bb-444e-8459-8bf967620728",
      "execution_count": null,
      "outputs": []
    },
    {
      "cell_type": "code",
      "metadata": {
        "id": "2c0a25ac-0885-4894-9678-387a934216b5"
      },
      "source": [
        "# read data for generation\n",
        "\n",
        "## get generation -- geolocation, bus (nearest from geolocation), [p_mw, vm_pu, sn_mva]\n",
        "\n",
        "### p_mw (float, default 0) - The active power of the generator (positive for generation!)\n",
        "\n",
        "### vm_pu (float, default 0) - The voltage set point of the generator.\n",
        "\n",
        "### sn_mva (float, None) - Nominal power of the generator"
      ],
      "id": "2c0a25ac-0885-4894-9678-387a934216b5",
      "execution_count": null,
      "outputs": []
    },
    {
      "cell_type": "code",
      "metadata": {
        "id": "f77216b4-8ec0-4600-a9bf-869127648285"
      },
      "source": [
        "# read data for loads\n",
        "\n",
        "## get loads -- geolocation, bus (nearest from geolocation), p_mw"
      ],
      "id": "f77216b4-8ec0-4600-a9bf-869127648285",
      "execution_count": null,
      "outputs": []
    },
    {
      "cell_type": "code",
      "metadata": {
        "id": "f79e39be-7d7a-4a49-952a-a97112d4e06e"
      },
      "source": [
        "# create 15 buses\n",
        "\n",
        "## bus_df: df or dict with geodata and v_kv for each bus\n",
        "\n",
        "buses = {}\n",
        "\n",
        "for i in range(15):\n",
        "    buses[i] = pp.create_bus(net, vn_kv = bus_df['v_kv'][i], name = f\"Bus {i}\", geodata = bus_df['geodata'][i])"
      ],
      "id": "f79e39be-7d7a-4a49-952a-a97112d4e06e",
      "execution_count": null,
      "outputs": []
    },
    {
      "cell_type": "code",
      "metadata": {
        "id": "35d51146-a3bf-44e7-80bd-9adc549d28af"
      },
      "source": [
        "# create one grid connection point\n",
        "connect_bus = \n",
        "vm_pu =\n",
        "\n",
        "pp.create_ext_grid(net, bus=connect_bus, vm_pu=vm_pu, name = \"Slack bus\")"
      ],
      "id": "35d51146-a3bf-44e7-80bd-9adc549d28af",
      "execution_count": null,
      "outputs": []
    },
    {
      "cell_type": "code",
      "metadata": {
        "id": "1c667df7-017d-4335-842c-f88df0a8071d"
      },
      "source": [
        "# create lines\n",
        "pp.create_line_from_parameters(net, from_bus=, to_bus=, length_km=, r_ohm_per_km=, x_ohm_per_km=, c_nf_per_km=, max_i_ka=)"
      ],
      "id": "1c667df7-017d-4335-842c-f88df0a8071d",
      "execution_count": null,
      "outputs": []
    },
    {
      "cell_type": "code",
      "metadata": {
        "id": "f88cb1d1-a3bd-448d-8118-ea59de3bcdce"
      },
      "source": [
        "# create generators\n",
        "pandapower.create_gen(net, bus, p_mw, vm_pu=1.0, sn_mva=nan, name=None, index=None, max_q_mvar=nan, min_q_mvar=nan, min_p_mw=nan, max_p_mw=nan, min_vm_pu=nan, max_vm_pu=nan, scaling=1.0, type=None, slack=False, controllable=nan, vn_kv=nan, xdss_pu=nan, rdss_pu=nan, cos_phi=nan, in_service=True)"
      ],
      "id": "f88cb1d1-a3bd-448d-8118-ea59de3bcdce",
      "execution_count": null,
      "outputs": []
    },
    {
      "cell_type": "code",
      "metadata": {
        "id": "ca18b0ba-901a-46e9-89bf-0d489f89f5af"
      },
      "source": [
        "# create loads\n",
        "\n",
        "# need to estimate load for each bus based on amount of population near that bus\n",
        "# assume total_demand = 5,800 GWh/y (2018) and total_pop = 1.19 million (2019)\n",
        "# kwh_per_person = total_demand/total_pop\n",
        "\n",
        "pandapower.create_load(net, bus, p_mw, q_mvar=0, const_z_percent=0, const_i_percent=0, sn_mva=nan, name=None, scaling=1.0, index=None, in_service=True, type='wye', max_p_mw=nan, min_p_mw=nan, max_q_mvar=nan, min_q_mvar=nan, controllable=nan)"
      ],
      "id": "ca18b0ba-901a-46e9-89bf-0d489f89f5af",
      "execution_count": null,
      "outputs": []
    },
    {
      "cell_type": "code",
      "metadata": {
        "id": "4378578d-6676-41c3-98a1-aaa7575ed48c"
      },
      "source": [
        "pp.runpp(net, algorithm='gs');"
      ],
      "id": "4378578d-6676-41c3-98a1-aaa7575ed48c",
      "execution_count": null,
      "outputs": []
    },
    {
      "cell_type": "code",
      "metadata": {
        "id": "96252a78-b6f8-46a1-b205-f6aba4e0d762"
      },
      "source": [
        ""
      ],
      "id": "96252a78-b6f8-46a1-b205-f6aba4e0d762",
      "execution_count": null,
      "outputs": []
    },
    {
      "cell_type": "code",
      "metadata": {
        "id": "8032a839-654b-4d67-b830-90d8d261f592"
      },
      "source": [
        ""
      ],
      "id": "8032a839-654b-4d67-b830-90d8d261f592",
      "execution_count": null,
      "outputs": []
    }
  ]
}